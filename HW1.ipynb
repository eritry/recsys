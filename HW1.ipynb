{
  "nbformat": 4,
  "nbformat_minor": 0,
  "metadata": {
    "kernelspec": {
      "display_name": "Python 3",
      "language": "python",
      "name": "python3"
    },
    "language_info": {
      "codemirror_mode": {
        "name": "ipython",
        "version": 3
      },
      "file_extension": ".py",
      "mimetype": "text/x-python",
      "name": "python",
      "nbconvert_exporter": "python",
      "pygments_lexer": "ipython3",
      "version": "3.7.4"
    },
    "colab": {
      "name": "Копия_блокнота__HW1_ipynb_ (1).ipynb",
      "provenance": [],
      "collapsed_sections": []
    },
    "accelerator": "GPU",
    "widgets": {
      "application/vnd.jupyter.widget-state+json": {
        "3a3cbfeb725f4478a3256e404a991966": {
          "model_module": "@jupyter-widgets/controls",
          "model_name": "HBoxModel",
          "state": {
            "_view_name": "HBoxView",
            "_dom_classes": [],
            "_model_name": "HBoxModel",
            "_view_module": "@jupyter-widgets/controls",
            "_model_module_version": "1.5.0",
            "_view_count": null,
            "_view_module_version": "1.5.0",
            "box_style": "",
            "layout": "IPY_MODEL_ce3dc006854e459d8482be40fa5548d1",
            "_model_module": "@jupyter-widgets/controls",
            "children": [
              "IPY_MODEL_08fdee021d3b46448bc6c48da8ae53bb",
              "IPY_MODEL_ccb6f50e3d2146bb9b424f1c13293a3a"
            ]
          }
        },
        "ce3dc006854e459d8482be40fa5548d1": {
          "model_module": "@jupyter-widgets/base",
          "model_name": "LayoutModel",
          "state": {
            "_view_name": "LayoutView",
            "grid_template_rows": null,
            "right": null,
            "justify_content": null,
            "_view_module": "@jupyter-widgets/base",
            "overflow": null,
            "_model_module_version": "1.2.0",
            "_view_count": null,
            "flex_flow": null,
            "width": null,
            "min_width": null,
            "border": null,
            "align_items": null,
            "bottom": null,
            "_model_module": "@jupyter-widgets/base",
            "top": null,
            "grid_column": null,
            "overflow_y": null,
            "overflow_x": null,
            "grid_auto_flow": null,
            "grid_area": null,
            "grid_template_columns": null,
            "flex": null,
            "_model_name": "LayoutModel",
            "justify_items": null,
            "grid_row": null,
            "max_height": null,
            "align_content": null,
            "visibility": null,
            "align_self": null,
            "height": null,
            "min_height": null,
            "padding": null,
            "grid_auto_rows": null,
            "grid_gap": null,
            "max_width": null,
            "order": null,
            "_view_module_version": "1.2.0",
            "grid_template_areas": null,
            "object_position": null,
            "object_fit": null,
            "grid_auto_columns": null,
            "margin": null,
            "display": null,
            "left": null
          }
        },
        "08fdee021d3b46448bc6c48da8ae53bb": {
          "model_module": "@jupyter-widgets/controls",
          "model_name": "FloatProgressModel",
          "state": {
            "_view_name": "ProgressView",
            "style": "IPY_MODEL_f535fc4f9c564e50b452b2c13eff57fe",
            "_dom_classes": [],
            "description": "100%",
            "_model_name": "FloatProgressModel",
            "bar_style": "success",
            "max": 100,
            "_view_module": "@jupyter-widgets/controls",
            "_model_module_version": "1.5.0",
            "value": 100,
            "_view_count": null,
            "_view_module_version": "1.5.0",
            "orientation": "horizontal",
            "min": 0,
            "description_tooltip": null,
            "_model_module": "@jupyter-widgets/controls",
            "layout": "IPY_MODEL_dab2ee7ecdad4295a169ea80383bdcf3"
          }
        },
        "ccb6f50e3d2146bb9b424f1c13293a3a": {
          "model_module": "@jupyter-widgets/controls",
          "model_name": "HTMLModel",
          "state": {
            "_view_name": "HTMLView",
            "style": "IPY_MODEL_362593e2a29344139257b6651142885e",
            "_dom_classes": [],
            "description": "",
            "_model_name": "HTMLModel",
            "placeholder": "​",
            "_view_module": "@jupyter-widgets/controls",
            "_model_module_version": "1.5.0",
            "value": " 100/100 [04:40&lt;00:00,  2.81s/it, loss=0.0135]",
            "_view_count": null,
            "_view_module_version": "1.5.0",
            "description_tooltip": null,
            "_model_module": "@jupyter-widgets/controls",
            "layout": "IPY_MODEL_7e8d51fd9b2c4da3940a343bc166eb25"
          }
        },
        "f535fc4f9c564e50b452b2c13eff57fe": {
          "model_module": "@jupyter-widgets/controls",
          "model_name": "ProgressStyleModel",
          "state": {
            "_view_name": "StyleView",
            "_model_name": "ProgressStyleModel",
            "description_width": "initial",
            "_view_module": "@jupyter-widgets/base",
            "_model_module_version": "1.5.0",
            "_view_count": null,
            "_view_module_version": "1.2.0",
            "bar_color": null,
            "_model_module": "@jupyter-widgets/controls"
          }
        },
        "dab2ee7ecdad4295a169ea80383bdcf3": {
          "model_module": "@jupyter-widgets/base",
          "model_name": "LayoutModel",
          "state": {
            "_view_name": "LayoutView",
            "grid_template_rows": null,
            "right": null,
            "justify_content": null,
            "_view_module": "@jupyter-widgets/base",
            "overflow": null,
            "_model_module_version": "1.2.0",
            "_view_count": null,
            "flex_flow": null,
            "width": null,
            "min_width": null,
            "border": null,
            "align_items": null,
            "bottom": null,
            "_model_module": "@jupyter-widgets/base",
            "top": null,
            "grid_column": null,
            "overflow_y": null,
            "overflow_x": null,
            "grid_auto_flow": null,
            "grid_area": null,
            "grid_template_columns": null,
            "flex": null,
            "_model_name": "LayoutModel",
            "justify_items": null,
            "grid_row": null,
            "max_height": null,
            "align_content": null,
            "visibility": null,
            "align_self": null,
            "height": null,
            "min_height": null,
            "padding": null,
            "grid_auto_rows": null,
            "grid_gap": null,
            "max_width": null,
            "order": null,
            "_view_module_version": "1.2.0",
            "grid_template_areas": null,
            "object_position": null,
            "object_fit": null,
            "grid_auto_columns": null,
            "margin": null,
            "display": null,
            "left": null
          }
        },
        "362593e2a29344139257b6651142885e": {
          "model_module": "@jupyter-widgets/controls",
          "model_name": "DescriptionStyleModel",
          "state": {
            "_view_name": "StyleView",
            "_model_name": "DescriptionStyleModel",
            "description_width": "",
            "_view_module": "@jupyter-widgets/base",
            "_model_module_version": "1.5.0",
            "_view_count": null,
            "_view_module_version": "1.2.0",
            "_model_module": "@jupyter-widgets/controls"
          }
        },
        "7e8d51fd9b2c4da3940a343bc166eb25": {
          "model_module": "@jupyter-widgets/base",
          "model_name": "LayoutModel",
          "state": {
            "_view_name": "LayoutView",
            "grid_template_rows": null,
            "right": null,
            "justify_content": null,
            "_view_module": "@jupyter-widgets/base",
            "overflow": null,
            "_model_module_version": "1.2.0",
            "_view_count": null,
            "flex_flow": null,
            "width": null,
            "min_width": null,
            "border": null,
            "align_items": null,
            "bottom": null,
            "_model_module": "@jupyter-widgets/base",
            "top": null,
            "grid_column": null,
            "overflow_y": null,
            "overflow_x": null,
            "grid_auto_flow": null,
            "grid_area": null,
            "grid_template_columns": null,
            "flex": null,
            "_model_name": "LayoutModel",
            "justify_items": null,
            "grid_row": null,
            "max_height": null,
            "align_content": null,
            "visibility": null,
            "align_self": null,
            "height": null,
            "min_height": null,
            "padding": null,
            "grid_auto_rows": null,
            "grid_gap": null,
            "max_width": null,
            "order": null,
            "_view_module_version": "1.2.0",
            "grid_template_areas": null,
            "object_position": null,
            "object_fit": null,
            "grid_auto_columns": null,
            "margin": null,
            "display": null,
            "left": null
          }
        },
        "7ec81cdb6b6a4a4c81343e9221cc7059": {
          "model_module": "@jupyter-widgets/controls",
          "model_name": "HBoxModel",
          "state": {
            "_view_name": "HBoxView",
            "_dom_classes": [],
            "_model_name": "HBoxModel",
            "_view_module": "@jupyter-widgets/controls",
            "_model_module_version": "1.5.0",
            "_view_count": null,
            "_view_module_version": "1.5.0",
            "box_style": "",
            "layout": "IPY_MODEL_26e98bec8b55407bb31b819a25ebeca7",
            "_model_module": "@jupyter-widgets/controls",
            "children": [
              "IPY_MODEL_90a2ed5537d94adc8bdb219f0fc20174",
              "IPY_MODEL_02bc0ddedc7c40859ce0a3101fe7350b"
            ]
          }
        },
        "26e98bec8b55407bb31b819a25ebeca7": {
          "model_module": "@jupyter-widgets/base",
          "model_name": "LayoutModel",
          "state": {
            "_view_name": "LayoutView",
            "grid_template_rows": null,
            "right": null,
            "justify_content": null,
            "_view_module": "@jupyter-widgets/base",
            "overflow": null,
            "_model_module_version": "1.2.0",
            "_view_count": null,
            "flex_flow": null,
            "width": null,
            "min_width": null,
            "border": null,
            "align_items": null,
            "bottom": null,
            "_model_module": "@jupyter-widgets/base",
            "top": null,
            "grid_column": null,
            "overflow_y": null,
            "overflow_x": null,
            "grid_auto_flow": null,
            "grid_area": null,
            "grid_template_columns": null,
            "flex": null,
            "_model_name": "LayoutModel",
            "justify_items": null,
            "grid_row": null,
            "max_height": null,
            "align_content": null,
            "visibility": null,
            "align_self": null,
            "height": null,
            "min_height": null,
            "padding": null,
            "grid_auto_rows": null,
            "grid_gap": null,
            "max_width": null,
            "order": null,
            "_view_module_version": "1.2.0",
            "grid_template_areas": null,
            "object_position": null,
            "object_fit": null,
            "grid_auto_columns": null,
            "margin": null,
            "display": null,
            "left": null
          }
        },
        "90a2ed5537d94adc8bdb219f0fc20174": {
          "model_module": "@jupyter-widgets/controls",
          "model_name": "FloatProgressModel",
          "state": {
            "_view_name": "ProgressView",
            "style": "IPY_MODEL_a961e1e3bce04ddeabc9b1354fae1a40",
            "_dom_classes": [],
            "description": "100%",
            "_model_name": "FloatProgressModel",
            "bar_style": "",
            "max": 6041,
            "_view_module": "@jupyter-widgets/controls",
            "_model_module_version": "1.5.0",
            "value": 6041,
            "_view_count": null,
            "_view_module_version": "1.5.0",
            "orientation": "horizontal",
            "min": 0,
            "description_tooltip": null,
            "_model_module": "@jupyter-widgets/controls",
            "layout": "IPY_MODEL_8bebc80d7dce4ec5a0d2910aebcbbcbe"
          }
        },
        "02bc0ddedc7c40859ce0a3101fe7350b": {
          "model_module": "@jupyter-widgets/controls",
          "model_name": "HTMLModel",
          "state": {
            "_view_name": "HTMLView",
            "style": "IPY_MODEL_48f86b39276f4216b3f9192b706441ee",
            "_dom_classes": [],
            "description": "",
            "_model_name": "HTMLModel",
            "placeholder": "​",
            "_view_module": "@jupyter-widgets/controls",
            "_model_module_version": "1.5.0",
            "value": " 6041/6041 [02:35&lt;00:00, 38.05it/s]",
            "_view_count": null,
            "_view_module_version": "1.5.0",
            "description_tooltip": null,
            "_model_module": "@jupyter-widgets/controls",
            "layout": "IPY_MODEL_ee0ed7d420df4a28add5bf7bef717155"
          }
        },
        "a961e1e3bce04ddeabc9b1354fae1a40": {
          "model_module": "@jupyter-widgets/controls",
          "model_name": "ProgressStyleModel",
          "state": {
            "_view_name": "StyleView",
            "_model_name": "ProgressStyleModel",
            "description_width": "initial",
            "_view_module": "@jupyter-widgets/base",
            "_model_module_version": "1.5.0",
            "_view_count": null,
            "_view_module_version": "1.2.0",
            "bar_color": null,
            "_model_module": "@jupyter-widgets/controls"
          }
        },
        "8bebc80d7dce4ec5a0d2910aebcbbcbe": {
          "model_module": "@jupyter-widgets/base",
          "model_name": "LayoutModel",
          "state": {
            "_view_name": "LayoutView",
            "grid_template_rows": null,
            "right": null,
            "justify_content": null,
            "_view_module": "@jupyter-widgets/base",
            "overflow": null,
            "_model_module_version": "1.2.0",
            "_view_count": null,
            "flex_flow": null,
            "width": null,
            "min_width": null,
            "border": null,
            "align_items": null,
            "bottom": null,
            "_model_module": "@jupyter-widgets/base",
            "top": null,
            "grid_column": null,
            "overflow_y": null,
            "overflow_x": null,
            "grid_auto_flow": null,
            "grid_area": null,
            "grid_template_columns": null,
            "flex": null,
            "_model_name": "LayoutModel",
            "justify_items": null,
            "grid_row": null,
            "max_height": null,
            "align_content": null,
            "visibility": null,
            "align_self": null,
            "height": null,
            "min_height": null,
            "padding": null,
            "grid_auto_rows": null,
            "grid_gap": null,
            "max_width": null,
            "order": null,
            "_view_module_version": "1.2.0",
            "grid_template_areas": null,
            "object_position": null,
            "object_fit": null,
            "grid_auto_columns": null,
            "margin": null,
            "display": null,
            "left": null
          }
        },
        "48f86b39276f4216b3f9192b706441ee": {
          "model_module": "@jupyter-widgets/controls",
          "model_name": "DescriptionStyleModel",
          "state": {
            "_view_name": "StyleView",
            "_model_name": "DescriptionStyleModel",
            "description_width": "",
            "_view_module": "@jupyter-widgets/base",
            "_model_module_version": "1.5.0",
            "_view_count": null,
            "_view_module_version": "1.2.0",
            "_model_module": "@jupyter-widgets/controls"
          }
        },
        "ee0ed7d420df4a28add5bf7bef717155": {
          "model_module": "@jupyter-widgets/base",
          "model_name": "LayoutModel",
          "state": {
            "_view_name": "LayoutView",
            "grid_template_rows": null,
            "right": null,
            "justify_content": null,
            "_view_module": "@jupyter-widgets/base",
            "overflow": null,
            "_model_module_version": "1.2.0",
            "_view_count": null,
            "flex_flow": null,
            "width": null,
            "min_width": null,
            "border": null,
            "align_items": null,
            "bottom": null,
            "_model_module": "@jupyter-widgets/base",
            "top": null,
            "grid_column": null,
            "overflow_y": null,
            "overflow_x": null,
            "grid_auto_flow": null,
            "grid_area": null,
            "grid_template_columns": null,
            "flex": null,
            "_model_name": "LayoutModel",
            "justify_items": null,
            "grid_row": null,
            "max_height": null,
            "align_content": null,
            "visibility": null,
            "align_self": null,
            "height": null,
            "min_height": null,
            "padding": null,
            "grid_auto_rows": null,
            "grid_gap": null,
            "max_width": null,
            "order": null,
            "_view_module_version": "1.2.0",
            "grid_template_areas": null,
            "object_position": null,
            "object_fit": null,
            "grid_auto_columns": null,
            "margin": null,
            "display": null,
            "left": null
          }
        },
        "8d9317ca49164bba9e136635c8a9380c": {
          "model_module": "@jupyter-widgets/controls",
          "model_name": "HBoxModel",
          "state": {
            "_view_name": "HBoxView",
            "_dom_classes": [],
            "_model_name": "HBoxModel",
            "_view_module": "@jupyter-widgets/controls",
            "_model_module_version": "1.5.0",
            "_view_count": null,
            "_view_module_version": "1.5.0",
            "box_style": "",
            "layout": "IPY_MODEL_7d24f2eb0d664e1d89f18206d90efc0d",
            "_model_module": "@jupyter-widgets/controls",
            "children": [
              "IPY_MODEL_1b3b71c19d9341e987cf016394ee0db0",
              "IPY_MODEL_e431edc4035e44168920734c8471c9b1"
            ]
          }
        },
        "7d24f2eb0d664e1d89f18206d90efc0d": {
          "model_module": "@jupyter-widgets/base",
          "model_name": "LayoutModel",
          "state": {
            "_view_name": "LayoutView",
            "grid_template_rows": null,
            "right": null,
            "justify_content": null,
            "_view_module": "@jupyter-widgets/base",
            "overflow": null,
            "_model_module_version": "1.2.0",
            "_view_count": null,
            "flex_flow": null,
            "width": null,
            "min_width": null,
            "border": null,
            "align_items": null,
            "bottom": null,
            "_model_module": "@jupyter-widgets/base",
            "top": null,
            "grid_column": null,
            "overflow_y": null,
            "overflow_x": null,
            "grid_auto_flow": null,
            "grid_area": null,
            "grid_template_columns": null,
            "flex": null,
            "_model_name": "LayoutModel",
            "justify_items": null,
            "grid_row": null,
            "max_height": null,
            "align_content": null,
            "visibility": null,
            "align_self": null,
            "height": null,
            "min_height": null,
            "padding": null,
            "grid_auto_rows": null,
            "grid_gap": null,
            "max_width": null,
            "order": null,
            "_view_module_version": "1.2.0",
            "grid_template_areas": null,
            "object_position": null,
            "object_fit": null,
            "grid_auto_columns": null,
            "margin": null,
            "display": null,
            "left": null
          }
        },
        "1b3b71c19d9341e987cf016394ee0db0": {
          "model_module": "@jupyter-widgets/controls",
          "model_name": "FloatProgressModel",
          "state": {
            "_view_name": "ProgressView",
            "style": "IPY_MODEL_b069bf644dfe40188bc35a8ea2fd0aa8",
            "_dom_classes": [],
            "description": "100%",
            "_model_name": "FloatProgressModel",
            "bar_style": "",
            "max": 3953,
            "_view_module": "@jupyter-widgets/controls",
            "_model_module_version": "1.5.0",
            "value": 3953,
            "_view_count": null,
            "_view_module_version": "1.5.0",
            "orientation": "horizontal",
            "min": 0,
            "description_tooltip": null,
            "_model_module": "@jupyter-widgets/controls",
            "layout": "IPY_MODEL_0e59187dc0984ae8bfcd845e0827ea1a"
          }
        },
        "e431edc4035e44168920734c8471c9b1": {
          "model_module": "@jupyter-widgets/controls",
          "model_name": "HTMLModel",
          "state": {
            "_view_name": "HTMLView",
            "style": "IPY_MODEL_c7370c9069a6473f97c4235041e3e732",
            "_dom_classes": [],
            "description": "",
            "_model_name": "HTMLModel",
            "placeholder": "​",
            "_view_module": "@jupyter-widgets/controls",
            "_model_module_version": "1.5.0",
            "value": " 3953/3953 [02:41&lt;00:00, 29.45it/s]",
            "_view_count": null,
            "_view_module_version": "1.5.0",
            "description_tooltip": null,
            "_model_module": "@jupyter-widgets/controls",
            "layout": "IPY_MODEL_452898ea71fb4a7dbcb9cc5e9d311503"
          }
        },
        "b069bf644dfe40188bc35a8ea2fd0aa8": {
          "model_module": "@jupyter-widgets/controls",
          "model_name": "ProgressStyleModel",
          "state": {
            "_view_name": "StyleView",
            "_model_name": "ProgressStyleModel",
            "description_width": "initial",
            "_view_module": "@jupyter-widgets/base",
            "_model_module_version": "1.5.0",
            "_view_count": null,
            "_view_module_version": "1.2.0",
            "bar_color": null,
            "_model_module": "@jupyter-widgets/controls"
          }
        },
        "0e59187dc0984ae8bfcd845e0827ea1a": {
          "model_module": "@jupyter-widgets/base",
          "model_name": "LayoutModel",
          "state": {
            "_view_name": "LayoutView",
            "grid_template_rows": null,
            "right": null,
            "justify_content": null,
            "_view_module": "@jupyter-widgets/base",
            "overflow": null,
            "_model_module_version": "1.2.0",
            "_view_count": null,
            "flex_flow": null,
            "width": null,
            "min_width": null,
            "border": null,
            "align_items": null,
            "bottom": null,
            "_model_module": "@jupyter-widgets/base",
            "top": null,
            "grid_column": null,
            "overflow_y": null,
            "overflow_x": null,
            "grid_auto_flow": null,
            "grid_area": null,
            "grid_template_columns": null,
            "flex": null,
            "_model_name": "LayoutModel",
            "justify_items": null,
            "grid_row": null,
            "max_height": null,
            "align_content": null,
            "visibility": null,
            "align_self": null,
            "height": null,
            "min_height": null,
            "padding": null,
            "grid_auto_rows": null,
            "grid_gap": null,
            "max_width": null,
            "order": null,
            "_view_module_version": "1.2.0",
            "grid_template_areas": null,
            "object_position": null,
            "object_fit": null,
            "grid_auto_columns": null,
            "margin": null,
            "display": null,
            "left": null
          }
        },
        "c7370c9069a6473f97c4235041e3e732": {
          "model_module": "@jupyter-widgets/controls",
          "model_name": "DescriptionStyleModel",
          "state": {
            "_view_name": "StyleView",
            "_model_name": "DescriptionStyleModel",
            "description_width": "",
            "_view_module": "@jupyter-widgets/base",
            "_model_module_version": "1.5.0",
            "_view_count": null,
            "_view_module_version": "1.2.0",
            "_model_module": "@jupyter-widgets/controls"
          }
        },
        "452898ea71fb4a7dbcb9cc5e9d311503": {
          "model_module": "@jupyter-widgets/base",
          "model_name": "LayoutModel",
          "state": {
            "_view_name": "LayoutView",
            "grid_template_rows": null,
            "right": null,
            "justify_content": null,
            "_view_module": "@jupyter-widgets/base",
            "overflow": null,
            "_model_module_version": "1.2.0",
            "_view_count": null,
            "flex_flow": null,
            "width": null,
            "min_width": null,
            "border": null,
            "align_items": null,
            "bottom": null,
            "_model_module": "@jupyter-widgets/base",
            "top": null,
            "grid_column": null,
            "overflow_y": null,
            "overflow_x": null,
            "grid_auto_flow": null,
            "grid_area": null,
            "grid_template_columns": null,
            "flex": null,
            "_model_name": "LayoutModel",
            "justify_items": null,
            "grid_row": null,
            "max_height": null,
            "align_content": null,
            "visibility": null,
            "align_self": null,
            "height": null,
            "min_height": null,
            "padding": null,
            "grid_auto_rows": null,
            "grid_gap": null,
            "max_width": null,
            "order": null,
            "_view_module_version": "1.2.0",
            "grid_template_areas": null,
            "object_position": null,
            "object_fit": null,
            "grid_auto_columns": null,
            "margin": null,
            "display": null,
            "left": null
          }
        }
      }
    }
  },
  "cells": [
    {
      "cell_type": "markdown",
      "metadata": {
        "id": "zjt29z_9wKZn"
      },
      "source": [
        "### Матричные факторизации"
      ]
    },
    {
      "cell_type": "markdown",
      "metadata": {
        "id": "FBHL4mYQwKZw"
      },
      "source": [
        "В данной работе вам предстоит познакомиться с практической стороной матричных разложений.\n",
        "Работа поделена на 4 задания:\n",
        "1. Вам необходимо реализовать SVD разложения используя SGD на explicit данных\n",
        "2. Вам необходимо реализовать матричное разложения используя ALS на implicit данных\n",
        "3. Вам необходимо реализовать матричное разложения используя BPR(pair-wise loss) на implicit данных\n",
        "4. Вам необходимо реализовать матричное разложения используя WARP(list-wise loss) на implicit данных\n"
      ]
    },
    {
      "cell_type": "code",
      "metadata": {
        "colab": {
          "base_uri": "https://localhost:8080/"
        },
        "id": "UR-kmZUa9hJ3",
        "outputId": "38586eff-57d7-4c0a-9c64-22275fd36561"
      },
      "source": [
        "!pip install implicit lightfm faiss\n",
        "!apt-get install libopenblas-dev\n",
        "!apt-get install libomp-dev"
      ],
      "execution_count": null,
      "outputs": [
        {
          "output_type": "stream",
          "text": [
            "Collecting implicit\n",
            "\u001b[?25l  Downloading https://files.pythonhosted.org/packages/bc/07/c0121884722d16e2c5beeb815f6b84b41cbf22e738e4075f1475be2791bc/implicit-0.4.4.tar.gz (1.1MB)\n",
            "\u001b[K     |████████████████████████████████| 1.1MB 18.6MB/s \n",
            "\u001b[?25hCollecting lightfm\n",
            "\u001b[?25l  Downloading https://files.pythonhosted.org/packages/5e/fe/8864d723daa8e5afc74080ce510c30f7ad52facf6a157d4b42dec83dfab4/lightfm-1.16.tar.gz (310kB)\n",
            "\u001b[K     |████████████████████████████████| 317kB 49.2MB/s \n",
            "\u001b[?25hCollecting faiss\n",
            "\u001b[?25l  Downloading https://files.pythonhosted.org/packages/ef/2e/dc5697e9ff6f313dcaf3afe5ca39d7d8334114cbabaed069d0026bbc3c61/faiss-1.5.3-cp37-cp37m-manylinux1_x86_64.whl (4.7MB)\n",
            "\u001b[K     |████████████████████████████████| 4.7MB 51.9MB/s \n",
            "\u001b[?25hRequirement already satisfied: numpy in /usr/local/lib/python3.7/dist-packages (from implicit) (1.19.5)\n",
            "Requirement already satisfied: scipy>=0.16 in /usr/local/lib/python3.7/dist-packages (from implicit) (1.4.1)\n",
            "Requirement already satisfied: tqdm>=4.27 in /usr/local/lib/python3.7/dist-packages (from implicit) (4.41.1)\n",
            "Requirement already satisfied: requests in /usr/local/lib/python3.7/dist-packages (from lightfm) (2.23.0)\n",
            "Requirement already satisfied: scikit-learn in /usr/local/lib/python3.7/dist-packages (from lightfm) (0.22.2.post1)\n",
            "Requirement already satisfied: certifi>=2017.4.17 in /usr/local/lib/python3.7/dist-packages (from requests->lightfm) (2020.12.5)\n",
            "Requirement already satisfied: urllib3!=1.25.0,!=1.25.1,<1.26,>=1.21.1 in /usr/local/lib/python3.7/dist-packages (from requests->lightfm) (1.24.3)\n",
            "Requirement already satisfied: idna<3,>=2.5 in /usr/local/lib/python3.7/dist-packages (from requests->lightfm) (2.10)\n",
            "Requirement already satisfied: chardet<4,>=3.0.2 in /usr/local/lib/python3.7/dist-packages (from requests->lightfm) (3.0.4)\n",
            "Requirement already satisfied: joblib>=0.11 in /usr/local/lib/python3.7/dist-packages (from scikit-learn->lightfm) (1.0.1)\n",
            "Building wheels for collected packages: implicit, lightfm\n",
            "  Building wheel for implicit (setup.py) ... \u001b[?25l\u001b[?25hdone\n",
            "  Created wheel for implicit: filename=implicit-0.4.4-cp37-cp37m-linux_x86_64.whl size=3406340 sha256=1042d384e9ef38c412cbd46f25e0bff1026ad84f478e12b08bf7ce898f684ed6\n",
            "  Stored in directory: /root/.cache/pip/wheels/bf/d4/ec/fd4f622fcbefb7521f149905295b2c26adecb23af38aa28217\n",
            "  Building wheel for lightfm (setup.py) ... \u001b[?25l\u001b[?25hdone\n",
            "  Created wheel for lightfm: filename=lightfm-1.16-cp37-cp37m-linux_x86_64.whl size=705338 sha256=91d55dce9ea1027acbfdce171088786ca274498659f5dbdb6b9e7fe34262f2f6\n",
            "  Stored in directory: /root/.cache/pip/wheels/c6/64/d4/673c7277f71ac4c5ad4835b94708c01b653ef2d3aa78ef20aa\n",
            "Successfully built implicit lightfm\n",
            "Installing collected packages: implicit, lightfm, faiss\n",
            "Successfully installed faiss-1.5.3 implicit-0.4.4 lightfm-1.16\n",
            "Reading package lists... Done\n",
            "Building dependency tree       \n",
            "Reading state information... Done\n",
            "libopenblas-dev is already the newest version (0.2.20+ds-4).\n",
            "0 upgraded, 0 newly installed, 0 to remove and 30 not upgraded.\n",
            "Reading package lists... Done\n",
            "Building dependency tree       \n",
            "Reading state information... Done\n",
            "The following additional packages will be installed:\n",
            "  libomp5\n",
            "Suggested packages:\n",
            "  libomp-doc\n",
            "The following NEW packages will be installed:\n",
            "  libomp-dev libomp5\n",
            "0 upgraded, 2 newly installed, 0 to remove and 30 not upgraded.\n",
            "Need to get 239 kB of archives.\n",
            "After this operation, 804 kB of additional disk space will be used.\n",
            "Get:1 http://archive.ubuntu.com/ubuntu bionic/universe amd64 libomp5 amd64 5.0.1-1 [234 kB]\n",
            "Get:2 http://archive.ubuntu.com/ubuntu bionic/universe amd64 libomp-dev amd64 5.0.1-1 [5,088 B]\n",
            "Fetched 239 kB in 1s (340 kB/s)\n",
            "Selecting previously unselected package libomp5:amd64.\n",
            "(Reading database ... 160980 files and directories currently installed.)\n",
            "Preparing to unpack .../libomp5_5.0.1-1_amd64.deb ...\n",
            "Unpacking libomp5:amd64 (5.0.1-1) ...\n",
            "Selecting previously unselected package libomp-dev.\n",
            "Preparing to unpack .../libomp-dev_5.0.1-1_amd64.deb ...\n",
            "Unpacking libomp-dev (5.0.1-1) ...\n",
            "Setting up libomp5:amd64 (5.0.1-1) ...\n",
            "Setting up libomp-dev (5.0.1-1) ...\n",
            "Processing triggers for libc-bin (2.27-3ubuntu1.2) ...\n",
            "/sbin/ldconfig.real: /usr/local/lib/python3.7/dist-packages/ideep4py/lib/libmkldnn.so.0 is not a symbolic link\n",
            "\n"
          ],
          "name": "stdout"
        }
      ]
    },
    {
      "cell_type": "code",
      "metadata": {
        "id": "n-kh4NzzwKZx"
      },
      "source": [
        "import implicit\n",
        "import pandas as pd\n",
        "import numpy as np\n",
        "import scipy.sparse as sp\n",
        "\n",
        "from lightfm.datasets import fetch_movielens"
      ],
      "execution_count": null,
      "outputs": []
    },
    {
      "cell_type": "code",
      "metadata": {
        "colab": {
          "base_uri": "https://localhost:8080/"
        },
        "id": "UiAsOkqW9euD",
        "outputId": "d826e6ba-8663-4413-f182-1f94799e90d7"
      },
      "source": [
        "!wget --no-check-certificate https://files.grouplens.org/datasets/movielens/ml-1m.zip\n",
        "!mkdir RecSysHSE\n",
        "!unzip ml-1m.zip -d RecSysHSE/"
      ],
      "execution_count": null,
      "outputs": [
        {
          "output_type": "stream",
          "text": [
            "--2021-03-25 15:32:31--  https://files.grouplens.org/datasets/movielens/ml-1m.zip\n",
            "Resolving files.grouplens.org (files.grouplens.org)... 128.101.65.152\n",
            "Connecting to files.grouplens.org (files.grouplens.org)|128.101.65.152|:443... connected.\n",
            "WARNING: cannot verify files.grouplens.org's certificate, issued by ‘CN=InCommon RSA Server CA,OU=InCommon,O=Internet2,L=Ann Arbor,ST=MI,C=US’:\n",
            "  Unable to locally verify the issuer's authority.\n",
            "HTTP request sent, awaiting response... 200 OK\n",
            "Length: 5917549 (5.6M) [application/zip]\n",
            "Saving to: ‘ml-1m.zip’\n",
            "\n",
            "ml-1m.zip           100%[===================>]   5.64M  26.1MB/s    in 0.2s    \n",
            "\n",
            "2021-03-25 15:32:31 (26.1 MB/s) - ‘ml-1m.zip’ saved [5917549/5917549]\n",
            "\n",
            "Archive:  ml-1m.zip\n",
            "   creating: RecSysHSE/ml-1m/\n",
            "  inflating: RecSysHSE/ml-1m/movies.dat  \n",
            "  inflating: RecSysHSE/ml-1m/ratings.dat  \n",
            "  inflating: RecSysHSE/ml-1m/README  \n",
            "  inflating: RecSysHSE/ml-1m/users.dat  \n"
          ],
          "name": "stdout"
        }
      ]
    },
    {
      "cell_type": "markdown",
      "metadata": {
        "id": "spvnaEMQwKZy"
      },
      "source": [
        "В данной работе мы будем работать с explicit датасетом movieLens, в котором представленны пары user_id movie_id и rating выставленный пользователем фильму\n",
        "\n",
        "Скачать датасет можно по ссылке https://grouplens.org/datasets/movielens/1m/"
      ]
    },
    {
      "cell_type": "code",
      "metadata": {
        "id": "WzDmSgK9wKZz"
      },
      "source": [
        "ratings = pd.read_csv('RecSysHSE/ml-1m/ratings.dat', delimiter='::', header=None, \n",
        "        names=['user_id', 'movie_id', 'rating', 'timestamp'], \n",
        "        usecols=['user_id', 'movie_id', 'rating'], engine='python')"
      ],
      "execution_count": null,
      "outputs": []
    },
    {
      "cell_type": "code",
      "metadata": {
        "id": "1dDOmRZfwKZz"
      },
      "source": [
        "movie_info = pd.read_csv('RecSysHSE/ml-1m/movies.dat', delimiter='::', header=None, \n",
        "        names=['movie_id', 'name', 'category'], engine='python')"
      ],
      "execution_count": null,
      "outputs": []
    },
    {
      "cell_type": "markdown",
      "metadata": {
        "id": "lK3LsiJQwKZ0"
      },
      "source": [
        "Explicit данные"
      ]
    },
    {
      "cell_type": "code",
      "metadata": {
        "id": "T0y_fjl0wKZ0",
        "colab": {
          "base_uri": "https://localhost:8080/",
          "height": 355
        },
        "outputId": "dd0b847d-53b0-4e92-a99f-0ea680d018f7"
      },
      "source": [
        "ratings.head(10)"
      ],
      "execution_count": null,
      "outputs": [
        {
          "output_type": "execute_result",
          "data": {
            "text/html": [
              "<div>\n",
              "<style scoped>\n",
              "    .dataframe tbody tr th:only-of-type {\n",
              "        vertical-align: middle;\n",
              "    }\n",
              "\n",
              "    .dataframe tbody tr th {\n",
              "        vertical-align: top;\n",
              "    }\n",
              "\n",
              "    .dataframe thead th {\n",
              "        text-align: right;\n",
              "    }\n",
              "</style>\n",
              "<table border=\"1\" class=\"dataframe\">\n",
              "  <thead>\n",
              "    <tr style=\"text-align: right;\">\n",
              "      <th></th>\n",
              "      <th>user_id</th>\n",
              "      <th>movie_id</th>\n",
              "      <th>rating</th>\n",
              "    </tr>\n",
              "  </thead>\n",
              "  <tbody>\n",
              "    <tr>\n",
              "      <th>0</th>\n",
              "      <td>1</td>\n",
              "      <td>1193</td>\n",
              "      <td>5</td>\n",
              "    </tr>\n",
              "    <tr>\n",
              "      <th>1</th>\n",
              "      <td>1</td>\n",
              "      <td>661</td>\n",
              "      <td>3</td>\n",
              "    </tr>\n",
              "    <tr>\n",
              "      <th>2</th>\n",
              "      <td>1</td>\n",
              "      <td>914</td>\n",
              "      <td>3</td>\n",
              "    </tr>\n",
              "    <tr>\n",
              "      <th>3</th>\n",
              "      <td>1</td>\n",
              "      <td>3408</td>\n",
              "      <td>4</td>\n",
              "    </tr>\n",
              "    <tr>\n",
              "      <th>4</th>\n",
              "      <td>1</td>\n",
              "      <td>2355</td>\n",
              "      <td>5</td>\n",
              "    </tr>\n",
              "    <tr>\n",
              "      <th>5</th>\n",
              "      <td>1</td>\n",
              "      <td>1197</td>\n",
              "      <td>3</td>\n",
              "    </tr>\n",
              "    <tr>\n",
              "      <th>6</th>\n",
              "      <td>1</td>\n",
              "      <td>1287</td>\n",
              "      <td>5</td>\n",
              "    </tr>\n",
              "    <tr>\n",
              "      <th>7</th>\n",
              "      <td>1</td>\n",
              "      <td>2804</td>\n",
              "      <td>5</td>\n",
              "    </tr>\n",
              "    <tr>\n",
              "      <th>8</th>\n",
              "      <td>1</td>\n",
              "      <td>594</td>\n",
              "      <td>4</td>\n",
              "    </tr>\n",
              "    <tr>\n",
              "      <th>9</th>\n",
              "      <td>1</td>\n",
              "      <td>919</td>\n",
              "      <td>4</td>\n",
              "    </tr>\n",
              "  </tbody>\n",
              "</table>\n",
              "</div>"
            ],
            "text/plain": [
              "   user_id  movie_id  rating\n",
              "0        1      1193       5\n",
              "1        1       661       3\n",
              "2        1       914       3\n",
              "3        1      3408       4\n",
              "4        1      2355       5\n",
              "5        1      1197       3\n",
              "6        1      1287       5\n",
              "7        1      2804       5\n",
              "8        1       594       4\n",
              "9        1       919       4"
            ]
          },
          "metadata": {
            "tags": []
          },
          "execution_count": 12
        }
      ]
    },
    {
      "cell_type": "markdown",
      "metadata": {
        "id": "iN5RgM3KwKZ1"
      },
      "source": [
        "Для того, чтобы преобразовать текущий датасет в Implicit, давайте считать что позитивная оценка это оценка >=4"
      ]
    },
    {
      "cell_type": "code",
      "metadata": {
        "id": "rCKf7uMrwKZ2"
      },
      "source": [
        "implicit_ratings = ratings.loc[(ratings['rating'] >= 4)]"
      ],
      "execution_count": null,
      "outputs": []
    },
    {
      "cell_type": "code",
      "metadata": {
        "id": "xSdjDAxWwKZ2",
        "colab": {
          "base_uri": "https://localhost:8080/",
          "height": 355
        },
        "outputId": "8e01f227-4d38-43ea-8928-4d642032616f"
      },
      "source": [
        "implicit_ratings.head(10)"
      ],
      "execution_count": null,
      "outputs": [
        {
          "output_type": "execute_result",
          "data": {
            "text/html": [
              "<div>\n",
              "<style scoped>\n",
              "    .dataframe tbody tr th:only-of-type {\n",
              "        vertical-align: middle;\n",
              "    }\n",
              "\n",
              "    .dataframe tbody tr th {\n",
              "        vertical-align: top;\n",
              "    }\n",
              "\n",
              "    .dataframe thead th {\n",
              "        text-align: right;\n",
              "    }\n",
              "</style>\n",
              "<table border=\"1\" class=\"dataframe\">\n",
              "  <thead>\n",
              "    <tr style=\"text-align: right;\">\n",
              "      <th></th>\n",
              "      <th>user_id</th>\n",
              "      <th>movie_id</th>\n",
              "      <th>rating</th>\n",
              "    </tr>\n",
              "  </thead>\n",
              "  <tbody>\n",
              "    <tr>\n",
              "      <th>0</th>\n",
              "      <td>1</td>\n",
              "      <td>1193</td>\n",
              "      <td>5</td>\n",
              "    </tr>\n",
              "    <tr>\n",
              "      <th>3</th>\n",
              "      <td>1</td>\n",
              "      <td>3408</td>\n",
              "      <td>4</td>\n",
              "    </tr>\n",
              "    <tr>\n",
              "      <th>4</th>\n",
              "      <td>1</td>\n",
              "      <td>2355</td>\n",
              "      <td>5</td>\n",
              "    </tr>\n",
              "    <tr>\n",
              "      <th>6</th>\n",
              "      <td>1</td>\n",
              "      <td>1287</td>\n",
              "      <td>5</td>\n",
              "    </tr>\n",
              "    <tr>\n",
              "      <th>7</th>\n",
              "      <td>1</td>\n",
              "      <td>2804</td>\n",
              "      <td>5</td>\n",
              "    </tr>\n",
              "    <tr>\n",
              "      <th>8</th>\n",
              "      <td>1</td>\n",
              "      <td>594</td>\n",
              "      <td>4</td>\n",
              "    </tr>\n",
              "    <tr>\n",
              "      <th>9</th>\n",
              "      <td>1</td>\n",
              "      <td>919</td>\n",
              "      <td>4</td>\n",
              "    </tr>\n",
              "    <tr>\n",
              "      <th>10</th>\n",
              "      <td>1</td>\n",
              "      <td>595</td>\n",
              "      <td>5</td>\n",
              "    </tr>\n",
              "    <tr>\n",
              "      <th>11</th>\n",
              "      <td>1</td>\n",
              "      <td>938</td>\n",
              "      <td>4</td>\n",
              "    </tr>\n",
              "    <tr>\n",
              "      <th>12</th>\n",
              "      <td>1</td>\n",
              "      <td>2398</td>\n",
              "      <td>4</td>\n",
              "    </tr>\n",
              "  </tbody>\n",
              "</table>\n",
              "</div>"
            ],
            "text/plain": [
              "    user_id  movie_id  rating\n",
              "0         1      1193       5\n",
              "3         1      3408       4\n",
              "4         1      2355       5\n",
              "6         1      1287       5\n",
              "7         1      2804       5\n",
              "8         1       594       4\n",
              "9         1       919       4\n",
              "10        1       595       5\n",
              "11        1       938       4\n",
              "12        1      2398       4"
            ]
          },
          "metadata": {
            "tags": []
          },
          "execution_count": 14
        }
      ]
    },
    {
      "cell_type": "markdown",
      "metadata": {
        "id": "7dVVPzlkwKZ3"
      },
      "source": [
        "Удобнее работать с sparse матричками, давайте преобразуем DataFrame в CSR матрицы"
      ]
    },
    {
      "cell_type": "code",
      "metadata": {
        "id": "vHG6cPCewKZ3"
      },
      "source": [
        "users = implicit_ratings[\"user_id\"]\n",
        "movies = implicit_ratings[\"movie_id\"]\n",
        "user_item = sp.coo_matrix((np.ones_like(users), (users, movies)))\n",
        "user_item_t_csr = user_item.T.tocsr()\n",
        "user_item_csr = user_item.tocsr()"
      ],
      "execution_count": null,
      "outputs": []
    },
    {
      "cell_type": "markdown",
      "metadata": {
        "id": "b37HLamzwKZ4"
      },
      "source": [
        "В качестве примера воспользуемся ALS разложением из библиотеки implicit\n",
        "\n",
        "Зададим размерность латентного пространства равным 64, это же определяет размер user/item эмбедингов"
      ]
    },
    {
      "cell_type": "code",
      "metadata": {
        "id": "f15bmooYwKZ4"
      },
      "source": [
        "model = implicit.als.AlternatingLeastSquares(factors=64, iterations=100, calculate_training_loss=True)"
      ],
      "execution_count": null,
      "outputs": []
    },
    {
      "cell_type": "markdown",
      "metadata": {
        "id": "yNnxaQNqwKZ5"
      },
      "source": [
        "В качестве loss здесь всеми любимый RMSE"
      ]
    },
    {
      "cell_type": "code",
      "metadata": {
        "id": "iiLsfcTMwKZ5",
        "colab": {
          "base_uri": "https://localhost:8080/",
          "height": 67,
          "referenced_widgets": [
            "3a3cbfeb725f4478a3256e404a991966",
            "ce3dc006854e459d8482be40fa5548d1",
            "08fdee021d3b46448bc6c48da8ae53bb",
            "ccb6f50e3d2146bb9b424f1c13293a3a",
            "f535fc4f9c564e50b452b2c13eff57fe",
            "dab2ee7ecdad4295a169ea80383bdcf3",
            "362593e2a29344139257b6651142885e",
            "7e8d51fd9b2c4da3940a343bc166eb25"
          ]
        },
        "outputId": "10284679-df31-4bba-a4fd-2575cbded36f"
      },
      "source": [
        "model.fit(user_item_t_csr)"
      ],
      "execution_count": null,
      "outputs": [
        {
          "output_type": "display_data",
          "data": {
            "application/vnd.jupyter.widget-view+json": {
              "model_id": "3a3cbfeb725f4478a3256e404a991966",
              "version_minor": 0,
              "version_major": 2
            },
            "text/plain": [
              "HBox(children=(FloatProgress(value=0.0), HTML(value='')))"
            ]
          },
          "metadata": {
            "tags": []
          }
        },
        {
          "output_type": "stream",
          "text": [
            "\n"
          ],
          "name": "stdout"
        }
      ]
    },
    {
      "cell_type": "markdown",
      "metadata": {
        "id": "D86JRFZkwKZ6"
      },
      "source": [
        "Построим похожие фильмы по 1 movie_id = Истории игрушек"
      ]
    },
    {
      "cell_type": "code",
      "metadata": {
        "id": "-y4AaOVUwKZ6",
        "colab": {
          "base_uri": "https://localhost:8080/",
          "height": 202
        },
        "outputId": "2d456e02-a633-4950-923f-8203d344bf4b"
      },
      "source": [
        "movie_info.head(5)"
      ],
      "execution_count": null,
      "outputs": [
        {
          "output_type": "execute_result",
          "data": {
            "text/html": [
              "<div>\n",
              "<style scoped>\n",
              "    .dataframe tbody tr th:only-of-type {\n",
              "        vertical-align: middle;\n",
              "    }\n",
              "\n",
              "    .dataframe tbody tr th {\n",
              "        vertical-align: top;\n",
              "    }\n",
              "\n",
              "    .dataframe thead th {\n",
              "        text-align: right;\n",
              "    }\n",
              "</style>\n",
              "<table border=\"1\" class=\"dataframe\">\n",
              "  <thead>\n",
              "    <tr style=\"text-align: right;\">\n",
              "      <th></th>\n",
              "      <th>movie_id</th>\n",
              "      <th>name</th>\n",
              "      <th>category</th>\n",
              "    </tr>\n",
              "  </thead>\n",
              "  <tbody>\n",
              "    <tr>\n",
              "      <th>0</th>\n",
              "      <td>1</td>\n",
              "      <td>Toy Story (1995)</td>\n",
              "      <td>Animation|Children's|Comedy</td>\n",
              "    </tr>\n",
              "    <tr>\n",
              "      <th>1</th>\n",
              "      <td>2</td>\n",
              "      <td>Jumanji (1995)</td>\n",
              "      <td>Adventure|Children's|Fantasy</td>\n",
              "    </tr>\n",
              "    <tr>\n",
              "      <th>2</th>\n",
              "      <td>3</td>\n",
              "      <td>Grumpier Old Men (1995)</td>\n",
              "      <td>Comedy|Romance</td>\n",
              "    </tr>\n",
              "    <tr>\n",
              "      <th>3</th>\n",
              "      <td>4</td>\n",
              "      <td>Waiting to Exhale (1995)</td>\n",
              "      <td>Comedy|Drama</td>\n",
              "    </tr>\n",
              "    <tr>\n",
              "      <th>4</th>\n",
              "      <td>5</td>\n",
              "      <td>Father of the Bride Part II (1995)</td>\n",
              "      <td>Comedy</td>\n",
              "    </tr>\n",
              "  </tbody>\n",
              "</table>\n",
              "</div>"
            ],
            "text/plain": [
              "   movie_id                                name                      category\n",
              "0         1                    Toy Story (1995)   Animation|Children's|Comedy\n",
              "1         2                      Jumanji (1995)  Adventure|Children's|Fantasy\n",
              "2         3             Grumpier Old Men (1995)                Comedy|Romance\n",
              "3         4            Waiting to Exhale (1995)                  Comedy|Drama\n",
              "4         5  Father of the Bride Part II (1995)                        Comedy"
            ]
          },
          "metadata": {
            "tags": []
          },
          "execution_count": 27
        }
      ]
    },
    {
      "cell_type": "code",
      "metadata": {
        "id": "3V4whLF9wKZ7"
      },
      "source": [
        "get_similars = lambda item_id, model : [movie_info[movie_info[\"movie_id\"] == x[0]][\"name\"].to_string() \n",
        "                                        for x in model.similar_items(item_id)]"
      ],
      "execution_count": null,
      "outputs": []
    },
    {
      "cell_type": "markdown",
      "metadata": {
        "id": "HT987lIowKZ7"
      },
      "source": [
        "Как мы видим, симилары действительно оказались симиларами.\n",
        "\n",
        "Качество симиларов часто является хорошим способом проверить качество алгоритмов.\n",
        "\n",
        "P.S. Если хочется поглубже разобраться в том как разные алгоритмы формируют разные латентные пространства, рекомендую загружать полученные вектора в tensorBoard и смотреть на сформированное пространство"
      ]
    },
    {
      "cell_type": "code",
      "metadata": {
        "id": "UJM-HwSowKZ7",
        "colab": {
          "base_uri": "https://localhost:8080/"
        },
        "outputId": "5264546e-1e65-4534-9586-b0be2144f17e"
      },
      "source": [
        "get_similars(1, model)"
      ],
      "execution_count": null,
      "outputs": [
        {
          "output_type": "execute_result",
          "data": {
            "text/plain": [
              "['0    Toy Story (1995)',\n",
              " '3045    Toy Story 2 (1999)',\n",
              " \"2286    Bug's Life, A (1998)\",\n",
              " '33    Babe (1995)',\n",
              " '584    Aladdin (1992)',\n",
              " '360    Lion King, The (1994)',\n",
              " '2315    Babe: Pig in the City (1998)',\n",
              " '1838    Mulan (1998)',\n",
              " '1526    Hercules (1997)',\n",
              " '2618    Tarzan (1999)']"
            ]
          },
          "metadata": {
            "tags": []
          },
          "execution_count": 29
        }
      ]
    },
    {
      "cell_type": "markdown",
      "metadata": {
        "id": "GJ8FipPswKZ8"
      },
      "source": [
        "Давайте теперь построим рекомендации для юзеров\n",
        "\n",
        "Как мы видим юзеру нравится фантастика, значит и в рекомендациях ожидаем увидеть фантастику"
      ]
    },
    {
      "cell_type": "code",
      "metadata": {
        "id": "Ytmw96lDwKZ8"
      },
      "source": [
        "get_user_history = lambda user_id, implicit_ratings : [movie_info[movie_info[\"movie_id\"] == x][\"name\"].to_string() \n",
        "                                            for x in implicit_ratings[implicit_ratings[\"user_id\"] == user_id][\"movie_id\"]]"
      ],
      "execution_count": null,
      "outputs": []
    },
    {
      "cell_type": "code",
      "metadata": {
        "id": "x9Iq-G6kwKZ9",
        "colab": {
          "base_uri": "https://localhost:8080/"
        },
        "outputId": "ef9e5240-96e4-42f9-a951-186a6cfcb0b0"
      },
      "source": [
        "get_user_history(4, implicit_ratings)"
      ],
      "execution_count": null,
      "outputs": [
        {
          "output_type": "execute_result",
          "data": {
            "text/plain": [
              "['3399    Hustler, The (1961)',\n",
              " '2882    Fistful of Dollars, A (1964)',\n",
              " '1196    Alien (1979)',\n",
              " '1023    Die Hard (1988)',\n",
              " '257    Star Wars: Episode IV - A New Hope (1977)',\n",
              " '1959    Saving Private Ryan (1998)',\n",
              " '476    Jurassic Park (1993)',\n",
              " '1180    Raiders of the Lost Ark (1981)',\n",
              " '1885    Rocky (1976)',\n",
              " '1081    E.T. the Extra-Terrestrial (1982)',\n",
              " '3349    Thelma & Louise (1991)',\n",
              " '3633    Mad Max (1979)',\n",
              " '2297    King Kong (1933)',\n",
              " '1366    Jaws (1975)',\n",
              " '1183    Good, The Bad and The Ugly, The (1966)',\n",
              " '2623    Run Lola Run (Lola rennt) (1998)',\n",
              " '2878    Goldfinger (1964)',\n",
              " '1220    Terminator, The (1984)']"
            ]
          },
          "metadata": {
            "tags": []
          },
          "execution_count": 31
        }
      ]
    },
    {
      "cell_type": "markdown",
      "metadata": {
        "id": "wjOCAOP5wKZ9"
      },
      "source": [
        "Получилось! \n",
        "\n",
        "Мы действительно порекомендовали пользователю фантастику и боевики, более того встречаются продолжения тех фильмов, которые он высоко оценил"
      ]
    },
    {
      "cell_type": "code",
      "metadata": {
        "id": "MIDMwfT2wKZ-"
      },
      "source": [
        "get_recommendations = lambda user_id, model : [movie_info[movie_info[\"movie_id\"] == x[0]][\"name\"].to_string() \n",
        "                                               for x in model.recommend(user_id, user_item_csr)]"
      ],
      "execution_count": null,
      "outputs": []
    },
    {
      "cell_type": "code",
      "metadata": {
        "id": "6eT4LJDzwKZ-",
        "colab": {
          "base_uri": "https://localhost:8080/"
        },
        "outputId": "a8dd9123-6bb3-427f-d9c3-50cf48f38598"
      },
      "source": [
        "get_recommendations(4, model)"
      ],
      "execution_count": null,
      "outputs": [
        {
          "output_type": "execute_result",
          "data": {
            "text/plain": [
              "['585    Terminator 2: Judgment Day (1991)',\n",
              " '1271    Indiana Jones and the Last Crusade (1989)',\n",
              " '1182    Aliens (1986)',\n",
              " '2502    Matrix, The (1999)',\n",
              " '1284    Butch Cassidy and the Sundance Kid (1969)',\n",
              " '1178    Star Wars: Episode V - The Empire Strikes Back...',\n",
              " '3402    Close Encounters of the Third Kind (1977)',\n",
              " '847    Godfather, The (1972)',\n",
              " '2460    Planet of the Apes (1968)',\n",
              " '1179    Princess Bride, The (1987)']"
            ]
          },
          "metadata": {
            "tags": []
          },
          "execution_count": 33
        }
      ]
    },
    {
      "cell_type": "markdown",
      "metadata": {
        "id": "W5HAdHK7wKZ-"
      },
      "source": [
        "Теперь ваша очередь реализовать самые популярные алгоритмы матричных разложений\n",
        "\n",
        "Что будет оцениваться:\n",
        "1. Корректность алгоритма\n",
        "2. Качество получившихся симиларов\n",
        "3. Качество итоговых рекомендаций для юзера"
      ]
    },
    {
      "cell_type": "markdown",
      "metadata": {
        "id": "MhN0qmRDwKZ_"
      },
      "source": [
        "### Задание 1. Не использую готовые решения, реализовать SVD разложение используя SGD на explicit данных"
      ]
    },
    {
      "cell_type": "code",
      "metadata": {
        "id": "zd7CGk5wwKZ_"
      },
      "source": [
        ""
      ],
      "execution_count": null,
      "outputs": []
    },
    {
      "cell_type": "markdown",
      "metadata": {
        "id": "WcwwrqFhwKZ_"
      },
      "source": [
        "### Задание 2. Не использую готовые решения, реализовать матричное разложение используя ALS на implicit данных"
      ]
    },
    {
      "cell_type": "code",
      "metadata": {
        "id": "q3SnnhneyYe_"
      },
      "source": [
        "from scipy.sparse.linalg import spsolve\n",
        "from scipy import sparse\n",
        "from tqdm.auto import tqdm\n",
        "from sklearn.neighbors import KNeighborsClassifier\n",
        "\n",
        "class ALS():\n",
        "  def __init__(self, data, r_lambda = 40, nf = 200, alpha = 40):\n",
        "    self.data = data\n",
        "    self.r_lambda = r_lambda\n",
        "    self.nf = nf\n",
        "    self.alpha = alpha\n",
        "\n",
        "    self.nu = data.shape[0]\n",
        "    self.ni = data.shape[1]\n",
        "\n",
        "    self.X = sparse.csr_matrix(np.random.rand(self.nu, self.nf) * 0.01) #user latent matrix\n",
        "    self.Y = sparse.csr_matrix(np.random.rand(self.ni, self.nf) * 0.01) #item latent matrix\n",
        "\n",
        "    self.C = alpha * self.data #confidence matrix\n",
        "\n",
        "  def optimize_user(self):\n",
        "      yT = self.Y.T\n",
        "      yT_Cu_y = yT.dot(self.Y)\n",
        "\n",
        "      for u in tqdm(range(self.nu), leave=False):\n",
        "          c = self.C[u, :].toarray() \n",
        "          p = c.copy()\n",
        "          p[p > 0] = 1\n",
        "\n",
        "          d = sparse.diags(c, [0])\n",
        "          conf = d + sparse.eye(self.Y.shape[0])\n",
        "          \n",
        "          yT_Cu_pu = yT.dot(conf).dot(p.T)\n",
        "          lI = yT.dot(d).dot(self.Y)\n",
        "          self.X[u] = spsolve(yT_Cu_y + lI, yT_Cu_pu)\n",
        "\n",
        "  def optimize_item(self):\n",
        "      xT = self.X.T\n",
        "      xT_Ci_x = xT.dot(self.X)\n",
        "\n",
        "      for i in tqdm(range(self.ni), leave=False):\n",
        "          c = self.C[:, i].T.toarray() \n",
        "          p = c.copy()\n",
        "          p[p > 0] = 1\n",
        "\n",
        "          d = sparse.diags(c, [0])\n",
        "          conf = d + sparse.eye(self.X.shape[0])\n",
        "\n",
        "          xT_Ci_pi = xT.dot(conf).dot(p.T)\n",
        "          lI = xT.dot(d).dot(self.X)\n",
        "          self.Y[i] = spsolve(xT_Ci_x + lI, xT_Ci_pi)\n",
        "  \n",
        "  def fit_KNN(self):\n",
        "    self.nbrs = NearestNeighbors(n_neighbors=100).fit(self.Y)\n",
        "\n",
        "  def similar_items(self, item_id):\n",
        "    distances, indices = self.nbrs.kneighbors(self.Y[item_id])\n",
        "    distances = distances[0][:10]\n",
        "    indices = indices[0][:10]\n",
        "    return zip(list(indices), list(distances))\n",
        "  \n",
        "  def recommend(self, user_id, user_item_csr):\n",
        "    distances, indices = nbrs.kneighbors(self.X[user_id])\n",
        "    distances = distances[0]\n",
        "    indices = indices[0]\n",
        "    recommendation = []\n",
        "    user_data = user_item_csr[user_id, :].toarray().flatten()\n",
        "    for i, d in zip(list(indices), list(distances)):\n",
        "        if user_data[i] == 0: recommendation.append((i, d))\n",
        "    return recommendation[:10]"
      ],
      "execution_count": null,
      "outputs": []
    },
    {
      "cell_type": "code",
      "metadata": {
        "colab": {
          "base_uri": "https://localhost:8080/",
          "height": 17,
          "referenced_widgets": [
            "7ec81cdb6b6a4a4c81343e9221cc7059",
            "26e98bec8b55407bb31b819a25ebeca7",
            "90a2ed5537d94adc8bdb219f0fc20174",
            "02bc0ddedc7c40859ce0a3101fe7350b",
            "a961e1e3bce04ddeabc9b1354fae1a40",
            "8bebc80d7dce4ec5a0d2910aebcbbcbe",
            "48f86b39276f4216b3f9192b706441ee",
            "ee0ed7d420df4a28add5bf7bef717155",
            "8d9317ca49164bba9e136635c8a9380c",
            "7d24f2eb0d664e1d89f18206d90efc0d",
            "1b3b71c19d9341e987cf016394ee0db0",
            "e431edc4035e44168920734c8471c9b1",
            "b069bf644dfe40188bc35a8ea2fd0aa8",
            "0e59187dc0984ae8bfcd845e0827ea1a",
            "c7370c9069a6473f97c4235041e3e732",
            "452898ea71fb4a7dbcb9cc5e9d311503"
          ]
        },
        "id": "RAVfBoB5AoTM",
        "outputId": "9547cbd4-6a15-444e-8059-9affd805fdcc"
      },
      "source": [
        "als = ALS(user_item_csr)\n",
        "\n",
        "for i in range(1):\n",
        "      als.optimize_user()\n",
        "      als.optimize_item()\n"
      ],
      "execution_count": null,
      "outputs": [
        {
          "output_type": "display_data",
          "data": {
            "application/vnd.jupyter.widget-view+json": {
              "model_id": "7ec81cdb6b6a4a4c81343e9221cc7059",
              "version_minor": 0,
              "version_major": 2
            },
            "text/plain": [
              "HBox(children=(FloatProgress(value=0.0, max=6041.0), HTML(value='')))"
            ]
          },
          "metadata": {
            "tags": []
          }
        },
        {
          "output_type": "display_data",
          "data": {
            "application/vnd.jupyter.widget-view+json": {
              "model_id": "8d9317ca49164bba9e136635c8a9380c",
              "version_minor": 0,
              "version_major": 2
            },
            "text/plain": [
              "HBox(children=(FloatProgress(value=0.0, max=3953.0), HTML(value='')))"
            ]
          },
          "metadata": {
            "tags": []
          }
        }
      ]
    },
    {
      "cell_type": "code",
      "metadata": {
        "id": "KzRBoad6uDCx"
      },
      "source": [
        "als.fit_KNN()"
      ],
      "execution_count": null,
      "outputs": []
    },
    {
      "cell_type": "code",
      "metadata": {
        "colab": {
          "base_uri": "https://localhost:8080/"
        },
        "id": "soRGWiwQN22P",
        "outputId": "32063ceb-0946-44f5-85b5-9a13ec0dab46"
      },
      "source": [
        "get_similars(1, als)"
      ],
      "execution_count": null,
      "outputs": [
        {
          "output_type": "execute_result",
          "data": {
            "text/plain": [
              "['0    Toy Story (1995)',\n",
              " '2669    Crimes of the Heart (1986)',\n",
              " '990    Extreme Measures (1996)',\n",
              " '772    Fan, The (1996)',\n",
              " '1344    Ridicule (1996)',\n",
              " '2108    Family Plot (1976)',\n",
              " '133    Down Periscope (1996)',\n",
              " '175    Lord of Illusions (1995)',\n",
              " '2079    House (1986)',\n",
              " '2111    Torn Curtain (1966)']"
            ]
          },
          "metadata": {
            "tags": []
          },
          "execution_count": 179
        }
      ]
    },
    {
      "cell_type": "code",
      "metadata": {
        "colab": {
          "base_uri": "https://localhost:8080/"
        },
        "id": "FNHT3uLAuJjp",
        "outputId": "bc5794da-e205-4f1f-c6a4-05609153078b"
      },
      "source": [
        "get_recommendations(4, als)"
      ],
      "execution_count": null,
      "outputs": [
        {
          "output_type": "execute_result",
          "data": {
            "text/plain": [
              "['3798    Naked Gun: From the Files of Police Squad!, Th...',\n",
              " '3466    American Psycho (2000)',\n",
              " '2385    Fly, The (1958)',\n",
              " '110    Rumble in the Bronx (1995)',\n",
              " '2879    From Russia with Love (1963)',\n",
              " '3846    Remember the Titans (2000)',\n",
              " '3549    Small Time Crooks (2000)',\n",
              " '3558    Carnival of Souls (1962)',\n",
              " '3585    Guns of Navarone, The (1961)',\n",
              " '341    Adventures of Priscilla, Queen of the Desert, ...']"
            ]
          },
          "metadata": {
            "tags": []
          },
          "execution_count": 178
        }
      ]
    },
    {
      "cell_type": "markdown",
      "metadata": {
        "id": "AOXid4fHwKaA"
      },
      "source": [
        "### Задание 3. Не использую готовые решения, реализовать матричное разложение BPR на implicit данных"
      ]
    },
    {
      "cell_type": "markdown",
      "metadata": {
        "id": "sw5BeL5pwKaB"
      },
      "source": [
        "### Задание 4. Не использую готовые решения, реализовать матричное разложение WARP на implicit данных"
      ]
    },
    {
      "cell_type": "code",
      "metadata": {
        "id": "H01h_vE-wKaB"
      },
      "source": [
        ""
      ],
      "execution_count": null,
      "outputs": []
    }
  ]
}